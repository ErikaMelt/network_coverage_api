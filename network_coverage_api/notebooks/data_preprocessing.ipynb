{
 "cells": [
  {
   "cell_type": "code",
   "execution_count": 1,
   "metadata": {},
   "outputs": [],
   "source": [
    "import pandas as pd "
   ]
  },
  {
   "cell_type": "code",
   "execution_count": 2,
   "metadata": {},
   "outputs": [],
   "source": [
    "df = pd.read_csv('../data/2018_01_Sites_mobiles_2G_3G_4G_France_metropolitaine_L93.csv', sep=';')"
   ]
  },
  {
   "cell_type": "code",
   "execution_count": 3,
   "metadata": {},
   "outputs": [
    {
     "name": "stdout",
     "output_type": "stream",
     "text": [
      "<class 'pandas.core.frame.DataFrame'>\n",
      "RangeIndex: 77148 entries, 0 to 77147\n",
      "Data columns (total 6 columns):\n",
      " #   Column     Non-Null Count  Dtype  \n",
      "---  ------     --------------  -----  \n",
      " 0   Operateur  77148 non-null  int64  \n",
      " 1   x          77147 non-null  float64\n",
      " 2   y          77147 non-null  float64\n",
      " 3   2G         77148 non-null  int64  \n",
      " 4   3G         77148 non-null  int64  \n",
      " 5   4G         77148 non-null  int64  \n",
      "dtypes: float64(2), int64(4)\n",
      "memory usage: 3.5 MB\n"
     ]
    }
   ],
   "source": [
    "df.info()"
   ]
  },
  {
   "cell_type": "code",
   "execution_count": 4,
   "metadata": {},
   "outputs": [],
   "source": [
    "df.rename(columns={'Operateur': 'operateur'}, inplace=True)"
   ]
  },
  {
   "cell_type": "code",
   "execution_count": 5,
   "metadata": {},
   "outputs": [
    {
     "data": {
      "text/html": [
       "<div>\n",
       "<style scoped>\n",
       "    .dataframe tbody tr th:only-of-type {\n",
       "        vertical-align: middle;\n",
       "    }\n",
       "\n",
       "    .dataframe tbody tr th {\n",
       "        vertical-align: top;\n",
       "    }\n",
       "\n",
       "    .dataframe thead th {\n",
       "        text-align: right;\n",
       "    }\n",
       "</style>\n",
       "<table border=\"1\" class=\"dataframe\">\n",
       "  <thead>\n",
       "    <tr style=\"text-align: right;\">\n",
       "      <th></th>\n",
       "      <th>operateur</th>\n",
       "      <th>x</th>\n",
       "      <th>y</th>\n",
       "      <th>2G</th>\n",
       "      <th>3G</th>\n",
       "      <th>4G</th>\n",
       "    </tr>\n",
       "  </thead>\n",
       "  <tbody>\n",
       "    <tr>\n",
       "      <th>0</th>\n",
       "      <td>20801</td>\n",
       "      <td>102980.0</td>\n",
       "      <td>6847973.0</td>\n",
       "      <td>1</td>\n",
       "      <td>1</td>\n",
       "      <td>0</td>\n",
       "    </tr>\n",
       "    <tr>\n",
       "      <th>1</th>\n",
       "      <td>20810</td>\n",
       "      <td>103113.0</td>\n",
       "      <td>6848661.0</td>\n",
       "      <td>1</td>\n",
       "      <td>1</td>\n",
       "      <td>0</td>\n",
       "    </tr>\n",
       "    <tr>\n",
       "      <th>2</th>\n",
       "      <td>20820</td>\n",
       "      <td>103114.0</td>\n",
       "      <td>6848664.0</td>\n",
       "      <td>1</td>\n",
       "      <td>1</td>\n",
       "      <td>1</td>\n",
       "    </tr>\n",
       "    <tr>\n",
       "      <th>3</th>\n",
       "      <td>20801</td>\n",
       "      <td>112032.0</td>\n",
       "      <td>6840427.0</td>\n",
       "      <td>0</td>\n",
       "      <td>1</td>\n",
       "      <td>1</td>\n",
       "    </tr>\n",
       "    <tr>\n",
       "      <th>4</th>\n",
       "      <td>20801</td>\n",
       "      <td>115635.0</td>\n",
       "      <td>6799938.0</td>\n",
       "      <td>1</td>\n",
       "      <td>1</td>\n",
       "      <td>0</td>\n",
       "    </tr>\n",
       "  </tbody>\n",
       "</table>\n",
       "</div>"
      ],
      "text/plain": [
       "   operateur         x          y  2G  3G  4G\n",
       "0      20801  102980.0  6847973.0   1   1   0\n",
       "1      20810  103113.0  6848661.0   1   1   0\n",
       "2      20820  103114.0  6848664.0   1   1   1\n",
       "3      20801  112032.0  6840427.0   0   1   1\n",
       "4      20801  115635.0  6799938.0   1   1   0"
      ]
     },
     "execution_count": 5,
     "metadata": {},
     "output_type": "execute_result"
    }
   ],
   "source": [
    "df.head()"
   ]
  },
  {
   "cell_type": "code",
   "execution_count": 6,
   "metadata": {},
   "outputs": [],
   "source": [
    "df.rename(columns={'Operateur': 'operateur'}, inplace=True)"
   ]
  },
  {
   "cell_type": "markdown",
   "metadata": {},
   "source": [
    "#### Create a copy for processing "
   ]
  },
  {
   "cell_type": "code",
   "execution_count": 7,
   "metadata": {},
   "outputs": [],
   "source": [
    "df_cleaned = df.copy()"
   ]
  },
  {
   "cell_type": "markdown",
   "metadata": {},
   "source": [
    "#### Check for duplicates entries"
   ]
  },
  {
   "cell_type": "code",
   "execution_count": 8,
   "metadata": {},
   "outputs": [
    {
     "data": {
      "text/html": [
       "<div>\n",
       "<style scoped>\n",
       "    .dataframe tbody tr th:only-of-type {\n",
       "        vertical-align: middle;\n",
       "    }\n",
       "\n",
       "    .dataframe tbody tr th {\n",
       "        vertical-align: top;\n",
       "    }\n",
       "\n",
       "    .dataframe thead th {\n",
       "        text-align: right;\n",
       "    }\n",
       "</style>\n",
       "<table border=\"1\" class=\"dataframe\">\n",
       "  <thead>\n",
       "    <tr style=\"text-align: right;\">\n",
       "      <th></th>\n",
       "      <th>operateur</th>\n",
       "      <th>x</th>\n",
       "      <th>y</th>\n",
       "      <th>2G</th>\n",
       "      <th>3G</th>\n",
       "      <th>4G</th>\n",
       "    </tr>\n",
       "  </thead>\n",
       "  <tbody>\n",
       "    <tr>\n",
       "      <th>5736</th>\n",
       "      <td>20801</td>\n",
       "      <td>373594.0</td>\n",
       "      <td>6298494.0</td>\n",
       "      <td>0</td>\n",
       "      <td>1</td>\n",
       "      <td>0</td>\n",
       "    </tr>\n",
       "    <tr>\n",
       "      <th>5737</th>\n",
       "      <td>20801</td>\n",
       "      <td>373594.0</td>\n",
       "      <td>6298494.0</td>\n",
       "      <td>0</td>\n",
       "      <td>1</td>\n",
       "      <td>0</td>\n",
       "    </tr>\n",
       "    <tr>\n",
       "      <th>7081</th>\n",
       "      <td>20801</td>\n",
       "      <td>397239.0</td>\n",
       "      <td>6857986.0</td>\n",
       "      <td>0</td>\n",
       "      <td>0</td>\n",
       "      <td>0</td>\n",
       "    </tr>\n",
       "    <tr>\n",
       "      <th>7082</th>\n",
       "      <td>20801</td>\n",
       "      <td>397239.0</td>\n",
       "      <td>6857986.0</td>\n",
       "      <td>0</td>\n",
       "      <td>0</td>\n",
       "      <td>0</td>\n",
       "    </tr>\n",
       "    <tr>\n",
       "      <th>8577</th>\n",
       "      <td>20801</td>\n",
       "      <td>418409.0</td>\n",
       "      <td>6428567.0</td>\n",
       "      <td>1</td>\n",
       "      <td>1</td>\n",
       "      <td>1</td>\n",
       "    </tr>\n",
       "    <tr>\n",
       "      <th>...</th>\n",
       "      <td>...</td>\n",
       "      <td>...</td>\n",
       "      <td>...</td>\n",
       "      <td>...</td>\n",
       "      <td>...</td>\n",
       "      <td>...</td>\n",
       "    </tr>\n",
       "    <tr>\n",
       "      <th>74733</th>\n",
       "      <td>20820</td>\n",
       "      <td>1037869.0</td>\n",
       "      <td>6298619.0</td>\n",
       "      <td>1</td>\n",
       "      <td>1</td>\n",
       "      <td>1</td>\n",
       "    </tr>\n",
       "    <tr>\n",
       "      <th>74975</th>\n",
       "      <td>20820</td>\n",
       "      <td>1041366.0</td>\n",
       "      <td>6296402.0</td>\n",
       "      <td>1</td>\n",
       "      <td>1</td>\n",
       "      <td>1</td>\n",
       "    </tr>\n",
       "    <tr>\n",
       "      <th>74976</th>\n",
       "      <td>20820</td>\n",
       "      <td>1041366.0</td>\n",
       "      <td>6296402.0</td>\n",
       "      <td>1</td>\n",
       "      <td>1</td>\n",
       "      <td>1</td>\n",
       "    </tr>\n",
       "    <tr>\n",
       "      <th>76524</th>\n",
       "      <td>20815</td>\n",
       "      <td>1180107.0</td>\n",
       "      <td>6091654.0</td>\n",
       "      <td>0</td>\n",
       "      <td>1</td>\n",
       "      <td>1</td>\n",
       "    </tr>\n",
       "    <tr>\n",
       "      <th>76525</th>\n",
       "      <td>20815</td>\n",
       "      <td>1180107.0</td>\n",
       "      <td>6091654.0</td>\n",
       "      <td>0</td>\n",
       "      <td>1</td>\n",
       "      <td>1</td>\n",
       "    </tr>\n",
       "  </tbody>\n",
       "</table>\n",
       "<p>209 rows × 6 columns</p>\n",
       "</div>"
      ],
      "text/plain": [
       "       operateur          x          y  2G  3G  4G\n",
       "5736       20801   373594.0  6298494.0   0   1   0\n",
       "5737       20801   373594.0  6298494.0   0   1   0\n",
       "7081       20801   397239.0  6857986.0   0   0   0\n",
       "7082       20801   397239.0  6857986.0   0   0   0\n",
       "8577       20801   418409.0  6428567.0   1   1   1\n",
       "...          ...        ...        ...  ..  ..  ..\n",
       "74733      20820  1037869.0  6298619.0   1   1   1\n",
       "74975      20820  1041366.0  6296402.0   1   1   1\n",
       "74976      20820  1041366.0  6296402.0   1   1   1\n",
       "76524      20815  1180107.0  6091654.0   0   1   1\n",
       "76525      20815  1180107.0  6091654.0   0   1   1\n",
       "\n",
       "[209 rows x 6 columns]"
      ]
     },
     "execution_count": 8,
     "metadata": {},
     "output_type": "execute_result"
    }
   ],
   "source": [
    "duplicates = df_cleaned[df_cleaned.duplicated(subset=['operateur', 'x', 'y', '2G', '3G', '4G'], keep=False)]\n",
    "duplicates"
   ]
  },
  {
   "cell_type": "code",
   "execution_count": 9,
   "metadata": {},
   "outputs": [
    {
     "name": "stdout",
     "output_type": "stream",
     "text": [
      "Records before deleting duplicates: 77148\n",
      "Records after deleting duplicates: 77024\n"
     ]
    }
   ],
   "source": [
    "print(f'Records before deleting duplicates: {len(df_cleaned)}')\n",
    "df_cleaned = df_cleaned.drop_duplicates(subset=['operateur', 'x', 'y', '2G', '3G', '4G'], keep='first')\n",
    "print(f'Records after deleting duplicates: {len(df_cleaned)}')"
   ]
  },
  {
   "cell_type": "markdown",
   "metadata": {},
   "source": [
    "#### Operators codes mapping"
   ]
  },
  {
   "cell_type": "code",
   "execution_count": 10,
   "metadata": {},
   "outputs": [
    {
     "data": {
      "text/plain": [
       "array([20801, 20810, 20820, 20815])"
      ]
     },
     "execution_count": 10,
     "metadata": {},
     "output_type": "execute_result"
    }
   ],
   "source": [
    "unique_operateurs = df_cleaned['operateur'].unique()\n",
    "unique_operateurs"
   ]
  },
  {
   "cell_type": "code",
   "execution_count": 11,
   "metadata": {},
   "outputs": [],
   "source": [
    "operators_mapping = {\n",
    "    20801: 'Orange',\n",
    "    20810: 'SFR',\n",
    "    20815: 'Free', \n",
    "    20820: 'Bouygue'\n",
    "}\n",
    "\n",
    "df_cleaned['operator_name'] = df_cleaned['operateur'].map(operators_mapping)"
   ]
  },
  {
   "cell_type": "markdown",
   "metadata": {},
   "source": [
    "#### Transform to GPS Coordinates "
   ]
  },
  {
   "cell_type": "code",
   "execution_count": 12,
   "metadata": {},
   "outputs": [
    {
     "name": "stderr",
     "output_type": "stream",
     "text": [
      "/var/folders/1b/q0vy8pzj2d5_w7tb8dkfmh2m0000gn/T/ipykernel_64395/2064469693.py:6: FutureWarning: This function is deprecated. See: https://pyproj4.github.io/pyproj/stable/gotchas.html#upgrading-to-pyproj-2-from-pyproj-1\n",
      "  df_cleaned['longitude'], df_cleaned['latitude'] = pyproj.transform(lambert, wgs84, df_cleaned['x'], df_cleaned['y'])\n"
     ]
    }
   ],
   "source": [
    "import pyproj\n",
    "\n",
    "lambert = pyproj.Proj('+proj=lcc +lat_1=49 +lat_2=44 +lat_0=46.5 +lon_0=3 +x_0=700000 +y_0=6600000 +ellps=GRS80 +towgs84=0,0,0,0,0,0,0 +units=m +no_defs')\n",
    "wgs84 = pyproj.Proj('+proj=longlat +ellps=WGS84 +datum=WGS84 +no_defs')\n",
    "\n",
    "df_cleaned['longitude'], df_cleaned['latitude'] = pyproj.transform(lambert, wgs84, df_cleaned['x'], df_cleaned['y'])"
   ]
  },
  {
   "cell_type": "code",
   "execution_count": 13,
   "metadata": {},
   "outputs": [
    {
     "data": {
      "text/html": [
       "<div>\n",
       "<style scoped>\n",
       "    .dataframe tbody tr th:only-of-type {\n",
       "        vertical-align: middle;\n",
       "    }\n",
       "\n",
       "    .dataframe tbody tr th {\n",
       "        vertical-align: top;\n",
       "    }\n",
       "\n",
       "    .dataframe thead th {\n",
       "        text-align: right;\n",
       "    }\n",
       "</style>\n",
       "<table border=\"1\" class=\"dataframe\">\n",
       "  <thead>\n",
       "    <tr style=\"text-align: right;\">\n",
       "      <th></th>\n",
       "      <th>operateur</th>\n",
       "      <th>x</th>\n",
       "      <th>y</th>\n",
       "      <th>2G</th>\n",
       "      <th>3G</th>\n",
       "      <th>4G</th>\n",
       "      <th>longitude</th>\n",
       "      <th>latitude</th>\n",
       "    </tr>\n",
       "  </thead>\n",
       "  <tbody>\n",
       "    <tr>\n",
       "      <th>count</th>\n",
       "      <td>77024.000000</td>\n",
       "      <td>7.702300e+04</td>\n",
       "      <td>7.702300e+04</td>\n",
       "      <td>77024.000000</td>\n",
       "      <td>77024.000000</td>\n",
       "      <td>77024.000000</td>\n",
       "      <td>77023.000000</td>\n",
       "      <td>77023.000000</td>\n",
       "    </tr>\n",
       "    <tr>\n",
       "      <th>mean</th>\n",
       "      <td>20810.365419</td>\n",
       "      <td>6.952889e+05</td>\n",
       "      <td>6.637132e+06</td>\n",
       "      <td>0.746611</td>\n",
       "      <td>0.938422</td>\n",
       "      <td>0.658587</td>\n",
       "      <td>2.918664</td>\n",
       "      <td>46.801993</td>\n",
       "    </tr>\n",
       "    <tr>\n",
       "      <th>std</th>\n",
       "      <td>7.349988</td>\n",
       "      <td>2.068679e+05</td>\n",
       "      <td>2.504402e+05</td>\n",
       "      <td>0.434954</td>\n",
       "      <td>0.240389</td>\n",
       "      <td>0.474187</td>\n",
       "      <td>2.697567</td>\n",
       "      <td>2.258747</td>\n",
       "    </tr>\n",
       "    <tr>\n",
       "      <th>min</th>\n",
       "      <td>20801.000000</td>\n",
       "      <td>1.029800e+05</td>\n",
       "      <td>6.050021e+06</td>\n",
       "      <td>0.000000</td>\n",
       "      <td>0.000000</td>\n",
       "      <td>0.000000</td>\n",
       "      <td>-5.088856</td>\n",
       "      <td>41.364455</td>\n",
       "    </tr>\n",
       "    <tr>\n",
       "      <th>25%</th>\n",
       "      <td>20801.000000</td>\n",
       "      <td>5.697050e+05</td>\n",
       "      <td>6.422107e+06</td>\n",
       "      <td>0.000000</td>\n",
       "      <td>1.000000</td>\n",
       "      <td>0.000000</td>\n",
       "      <td>1.333208</td>\n",
       "      <td>44.855818</td>\n",
       "    </tr>\n",
       "    <tr>\n",
       "      <th>50%</th>\n",
       "      <td>20810.000000</td>\n",
       "      <td>6.744140e+05</td>\n",
       "      <td>6.689987e+06</td>\n",
       "      <td>1.000000</td>\n",
       "      <td>1.000000</td>\n",
       "      <td>1.000000</td>\n",
       "      <td>2.659307</td>\n",
       "      <td>47.258051</td>\n",
       "    </tr>\n",
       "    <tr>\n",
       "      <th>75%</th>\n",
       "      <td>20815.000000</td>\n",
       "      <td>8.546840e+05</td>\n",
       "      <td>6.859646e+06</td>\n",
       "      <td>1.000000</td>\n",
       "      <td>1.000000</td>\n",
       "      <td>1.000000</td>\n",
       "      <td>5.005605</td>\n",
       "      <td>48.827163</td>\n",
       "    </tr>\n",
       "    <tr>\n",
       "      <th>max</th>\n",
       "      <td>20820.000000</td>\n",
       "      <td>1.240585e+06</td>\n",
       "      <td>7.113682e+06</td>\n",
       "      <td>1.000000</td>\n",
       "      <td>1.000000</td>\n",
       "      <td>1.000000</td>\n",
       "      <td>9.550389</td>\n",
       "      <td>51.106451</td>\n",
       "    </tr>\n",
       "  </tbody>\n",
       "</table>\n",
       "</div>"
      ],
      "text/plain": [
       "          operateur             x             y            2G            3G  \\\n",
       "count  77024.000000  7.702300e+04  7.702300e+04  77024.000000  77024.000000   \n",
       "mean   20810.365419  6.952889e+05  6.637132e+06      0.746611      0.938422   \n",
       "std        7.349988  2.068679e+05  2.504402e+05      0.434954      0.240389   \n",
       "min    20801.000000  1.029800e+05  6.050021e+06      0.000000      0.000000   \n",
       "25%    20801.000000  5.697050e+05  6.422107e+06      0.000000      1.000000   \n",
       "50%    20810.000000  6.744140e+05  6.689987e+06      1.000000      1.000000   \n",
       "75%    20815.000000  8.546840e+05  6.859646e+06      1.000000      1.000000   \n",
       "max    20820.000000  1.240585e+06  7.113682e+06      1.000000      1.000000   \n",
       "\n",
       "                 4G     longitude      latitude  \n",
       "count  77024.000000  77023.000000  77023.000000  \n",
       "mean       0.658587      2.918664     46.801993  \n",
       "std        0.474187      2.697567      2.258747  \n",
       "min        0.000000     -5.088856     41.364455  \n",
       "25%        0.000000      1.333208     44.855818  \n",
       "50%        1.000000      2.659307     47.258051  \n",
       "75%        1.000000      5.005605     48.827163  \n",
       "max        1.000000      9.550389     51.106451  "
      ]
     },
     "execution_count": 13,
     "metadata": {},
     "output_type": "execute_result"
    }
   ],
   "source": [
    "df_cleaned.describe()"
   ]
  },
  {
   "cell_type": "code",
   "execution_count": 14,
   "metadata": {},
   "outputs": [
    {
     "name": "stdout",
     "output_type": "stream",
     "text": [
      "<class 'pandas.core.frame.DataFrame'>\n",
      "Index: 77024 entries, 0 to 77147\n",
      "Data columns (total 9 columns):\n",
      " #   Column         Non-Null Count  Dtype  \n",
      "---  ------         --------------  -----  \n",
      " 0   operateur      77024 non-null  int64  \n",
      " 1   x              77023 non-null  float64\n",
      " 2   y              77023 non-null  float64\n",
      " 3   2G             77024 non-null  int64  \n",
      " 4   3G             77024 non-null  int64  \n",
      " 5   4G             77024 non-null  int64  \n",
      " 6   operator_name  77024 non-null  object \n",
      " 7   longitude      77023 non-null  float64\n",
      " 8   latitude       77023 non-null  float64\n",
      "dtypes: float64(4), int64(4), object(1)\n",
      "memory usage: 5.9+ MB\n"
     ]
    }
   ],
   "source": [
    "df_cleaned.info()"
   ]
  },
  {
   "cell_type": "code",
   "execution_count": 49,
   "metadata": {},
   "outputs": [
    {
     "name": "stdout",
     "output_type": "stream",
     "text": [
      "2.3102149762339614 48.85244604125717\n"
     ]
    },
    {
     "name": "stderr",
     "output_type": "stream",
     "text": [
      "/var/folders/1b/q0vy8pzj2d5_w7tb8dkfmh2m0000gn/T/ipykernel_64395/2933347929.py:9: FutureWarning: This function is deprecated. See: https://pyproj4.github.io/pyproj/stable/gotchas.html#upgrading-to-pyproj-2-from-pyproj-1\n",
      "  longitude, latitude = pyproj.transform(lambert, wgs84, X, Y)\n"
     ]
    }
   ],
   "source": [
    "import pyproj\n",
    "\n",
    "lambert = pyproj.Proj('+proj=lcc +lat_1=49 +lat_2=44 +lat_0=46.5 +lon_0=3 +x_0=700000 +y_0=6600000 +ellps=GRS80 +towgs84=0,0,0,0,0,0,0 +units=m +no_defs')\n",
    "wgs84 = pyproj.Proj('+proj=longlat +ellps=WGS84 +datum=WGS84 +no_defs')\n",
    "\n",
    "X = 649384.5\n",
    "Y = 6861599.47\n",
    "\n",
    "longitude, latitude = pyproj.transform(lambert, wgs84, X, Y)\n",
    "print(longitude, latitude)\n"
   ]
  },
  {
   "cell_type": "code",
   "execution_count": 50,
   "metadata": {},
   "outputs": [
    {
     "data": {
      "text/html": [
       "<div>\n",
       "<style scoped>\n",
       "    .dataframe tbody tr th:only-of-type {\n",
       "        vertical-align: middle;\n",
       "    }\n",
       "\n",
       "    .dataframe tbody tr th {\n",
       "        vertical-align: top;\n",
       "    }\n",
       "\n",
       "    .dataframe thead th {\n",
       "        text-align: right;\n",
       "    }\n",
       "</style>\n",
       "<table border=\"1\" class=\"dataframe\">\n",
       "  <thead>\n",
       "    <tr style=\"text-align: right;\">\n",
       "      <th></th>\n",
       "      <th>operateur</th>\n",
       "      <th>x</th>\n",
       "      <th>y</th>\n",
       "      <th>2G</th>\n",
       "      <th>3G</th>\n",
       "      <th>4G</th>\n",
       "      <th>operator_name</th>\n",
       "      <th>longitude</th>\n",
       "      <th>latitude</th>\n",
       "    </tr>\n",
       "  </thead>\n",
       "  <tbody>\n",
       "    <tr>\n",
       "      <th>30340</th>\n",
       "      <td>20810</td>\n",
       "      <td>649392.0</td>\n",
       "      <td>6861473.0</td>\n",
       "      <td>0</td>\n",
       "      <td>1</td>\n",
       "      <td>1</td>\n",
       "      <td>SFR</td>\n",
       "      <td>2.310332</td>\n",
       "      <td>48.851309</td>\n",
       "    </tr>\n",
       "  </tbody>\n",
       "</table>\n",
       "</div>"
      ],
      "text/plain": [
       "       operateur         x          y  2G  3G  4G operator_name  longitude  \\\n",
       "30340      20810  649392.0  6861473.0   0   1   1           SFR   2.310332   \n",
       "\n",
       "        latitude  \n",
       "30340  48.851309  "
      ]
     },
     "execution_count": 50,
     "metadata": {},
     "output_type": "execute_result"
    }
   ],
   "source": [
    "import numpy as np\n",
    "#longitude = 2.879539\n",
    "#latitude = 42.663836\n",
    "\n",
    "\n",
    "tolerance = 0.001\n",
    "results = df_cleaned[\n",
    "        (np.isclose(df_cleaned.longitude, longitude, atol=tolerance))\n",
    "        & (np.isclose(df_cleaned.latitude, latitude, atol=tolerance))\n",
    "    ]\n",
    "\n",
    "results"
   ]
  },
  {
   "cell_type": "code",
   "execution_count": 56,
   "metadata": {},
   "outputs": [
    {
     "name": "stdout",
     "output_type": "stream",
     "text": [
      "       operateur         x          y  2G  3G  4G operator_name  longitude  \\\n",
      "30224      20820  649207.0  6861836.0   1   1   1       Bouygue   2.307768   \n",
      "30234      20801  649228.0  6861416.0   0   0   0        Orange   2.308104   \n",
      "30239      20820  649232.0  6861481.0   1   1   1       Bouygue   2.308151   \n",
      "30260      20801  649257.0  6861844.0   1   1   1        Orange   2.308448   \n",
      "30340      20810  649392.0  6861473.0   0   1   1           SFR   2.310332   \n",
      "\n",
      "        latitude  \n",
      "30224  48.854559  \n",
      "30234  48.850784  \n",
      "30239  48.851369  \n",
      "30260  48.854635  \n",
      "30340  48.851309  \n"
     ]
    }
   ],
   "source": [
    "import numpy as np\n",
    "\n",
    "# Define the target x and y values\n",
    "target_x = 649384.5\n",
    "target_y = 6861599.47\n",
    "\n",
    "# Define the tolerance\n",
    "tolerance = 300\n",
    "\n",
    "# Filter the DataFrame to find values close to the target\n",
    "filtered_df = df_cleaned[\n",
    "    (np.isclose(df_cleaned['x'], target_x, atol=tolerance)) &\n",
    "    (np.isclose(df_cleaned['y'], target_y, atol=tolerance))\n",
    "]\n",
    "\n",
    "# Print the filtered DataFrame\n",
    "print(filtered_df)\n"
   ]
  },
  {
   "cell_type": "code",
   "execution_count": 48,
   "metadata": {},
   "outputs": [
    {
     "data": {
      "text/html": [
       "<div>\n",
       "<style scoped>\n",
       "    .dataframe tbody tr th:only-of-type {\n",
       "        vertical-align: middle;\n",
       "    }\n",
       "\n",
       "    .dataframe tbody tr th {\n",
       "        vertical-align: top;\n",
       "    }\n",
       "\n",
       "    .dataframe thead th {\n",
       "        text-align: right;\n",
       "    }\n",
       "</style>\n",
       "<table border=\"1\" class=\"dataframe\">\n",
       "  <thead>\n",
       "    <tr style=\"text-align: right;\">\n",
       "      <th></th>\n",
       "      <th>operateur</th>\n",
       "      <th>x</th>\n",
       "      <th>y</th>\n",
       "      <th>2G</th>\n",
       "      <th>3G</th>\n",
       "      <th>4G</th>\n",
       "      <th>operator_name</th>\n",
       "      <th>longitude</th>\n",
       "      <th>latitude</th>\n",
       "    </tr>\n",
       "  </thead>\n",
       "  <tbody>\n",
       "  </tbody>\n",
       "</table>\n",
       "</div>"
      ],
      "text/plain": [
       "Empty DataFrame\n",
       "Columns: [operateur, x, y, 2G, 3G, 4G, operator_name, longitude, latitude]\n",
       "Index: []"
      ]
     },
     "execution_count": 48,
     "metadata": {},
     "output_type": "execute_result"
    }
   ],
   "source": [
    "tolerance = 0.01\n",
    "X_adjusted = 649384.0\n",
    "Y_adjusted = 6861599.0\n",
    "\n",
    "\n",
    "results_x = df_cleaned[\n",
    "    (np.isclose(df_cleaned['x'], X_adjusted, atol=tolerance))\n",
    "    & (np.isclose(df_cleaned['y'], Y_adjusted, atol=tolerance))\n",
    "]\n",
    "\n",
    "results_x"
   ]
  },
  {
   "cell_type": "code",
   "execution_count": 30,
   "metadata": {},
   "outputs": [
    {
     "data": {
      "text/html": [
       "<div>\n",
       "<style scoped>\n",
       "    .dataframe tbody tr th:only-of-type {\n",
       "        vertical-align: middle;\n",
       "    }\n",
       "\n",
       "    .dataframe tbody tr th {\n",
       "        vertical-align: top;\n",
       "    }\n",
       "\n",
       "    .dataframe thead th {\n",
       "        text-align: right;\n",
       "    }\n",
       "</style>\n",
       "<table border=\"1\" class=\"dataframe\">\n",
       "  <thead>\n",
       "    <tr style=\"text-align: right;\">\n",
       "      <th></th>\n",
       "      <th>x</th>\n",
       "      <th>y</th>\n",
       "    </tr>\n",
       "  </thead>\n",
       "  <tbody>\n",
       "    <tr>\n",
       "      <th>count</th>\n",
       "      <td>7.702300e+04</td>\n",
       "      <td>7.702300e+04</td>\n",
       "    </tr>\n",
       "    <tr>\n",
       "      <th>mean</th>\n",
       "      <td>6.952889e+05</td>\n",
       "      <td>6.637132e+06</td>\n",
       "    </tr>\n",
       "    <tr>\n",
       "      <th>std</th>\n",
       "      <td>2.068679e+05</td>\n",
       "      <td>2.504402e+05</td>\n",
       "    </tr>\n",
       "    <tr>\n",
       "      <th>min</th>\n",
       "      <td>1.029800e+05</td>\n",
       "      <td>6.050021e+06</td>\n",
       "    </tr>\n",
       "    <tr>\n",
       "      <th>25%</th>\n",
       "      <td>5.697050e+05</td>\n",
       "      <td>6.422107e+06</td>\n",
       "    </tr>\n",
       "    <tr>\n",
       "      <th>50%</th>\n",
       "      <td>6.744140e+05</td>\n",
       "      <td>6.689987e+06</td>\n",
       "    </tr>\n",
       "    <tr>\n",
       "      <th>75%</th>\n",
       "      <td>8.546840e+05</td>\n",
       "      <td>6.859646e+06</td>\n",
       "    </tr>\n",
       "    <tr>\n",
       "      <th>max</th>\n",
       "      <td>1.240585e+06</td>\n",
       "      <td>7.113682e+06</td>\n",
       "    </tr>\n",
       "  </tbody>\n",
       "</table>\n",
       "</div>"
      ],
      "text/plain": [
       "                  x             y\n",
       "count  7.702300e+04  7.702300e+04\n",
       "mean   6.952889e+05  6.637132e+06\n",
       "std    2.068679e+05  2.504402e+05\n",
       "min    1.029800e+05  6.050021e+06\n",
       "25%    5.697050e+05  6.422107e+06\n",
       "50%    6.744140e+05  6.689987e+06\n",
       "75%    8.546840e+05  6.859646e+06\n",
       "max    1.240585e+06  7.113682e+06"
      ]
     },
     "execution_count": 30,
     "metadata": {},
     "output_type": "execute_result"
    }
   ],
   "source": [
    "df_cleaned[['x', 'y']].describe()"
   ]
  },
  {
   "cell_type": "code",
   "execution_count": 24,
   "metadata": {},
   "outputs": [
    {
     "data": {
      "text/html": [
       "<div>\n",
       "<style scoped>\n",
       "    .dataframe tbody tr th:only-of-type {\n",
       "        vertical-align: middle;\n",
       "    }\n",
       "\n",
       "    .dataframe tbody tr th {\n",
       "        vertical-align: top;\n",
       "    }\n",
       "\n",
       "    .dataframe thead th {\n",
       "        text-align: right;\n",
       "    }\n",
       "</style>\n",
       "<table border=\"1\" class=\"dataframe\">\n",
       "  <thead>\n",
       "    <tr style=\"text-align: right;\">\n",
       "      <th></th>\n",
       "      <th>operateur</th>\n",
       "      <th>x</th>\n",
       "      <th>y</th>\n",
       "      <th>2G</th>\n",
       "      <th>3G</th>\n",
       "      <th>4G</th>\n",
       "      <th>operator_name</th>\n",
       "      <th>longitude</th>\n",
       "      <th>latitude</th>\n",
       "    </tr>\n",
       "  </thead>\n",
       "  <tbody>\n",
       "  </tbody>\n",
       "</table>\n",
       "</div>"
      ],
      "text/plain": [
       "Empty DataFrame\n",
       "Columns: [operateur, x, y, 2G, 3G, 4G, operator_name, longitude, latitude]\n",
       "Index: []"
      ]
     },
     "execution_count": 24,
     "metadata": {},
     "output_type": "execute_result"
    }
   ],
   "source": [
    "results_x"
   ]
  },
  {
   "cell_type": "code",
   "execution_count": 20,
   "metadata": {},
   "outputs": [],
   "source": [
    "df_cleaned.to_csv('../data/network_data_cleaned.csv')"
   ]
  }
 ],
 "metadata": {
  "kernelspec": {
   "display_name": "network-coverage-api-SOwIa7q1-py3.9",
   "language": "python",
   "name": "python3"
  },
  "language_info": {
   "codemirror_mode": {
    "name": "ipython",
    "version": 3
   },
   "file_extension": ".py",
   "mimetype": "text/x-python",
   "name": "python",
   "nbconvert_exporter": "python",
   "pygments_lexer": "ipython3",
   "version": "3.9.13"
  },
  "orig_nbformat": 4
 },
 "nbformat": 4,
 "nbformat_minor": 2
}
